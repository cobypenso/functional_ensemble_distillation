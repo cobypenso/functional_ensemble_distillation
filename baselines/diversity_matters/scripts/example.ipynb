{
 "cells": [
  {
   "cell_type": "code",
   "execution_count": 1,
   "metadata": {},
   "outputs": [],
   "source": [
    "import sys\n",
    "import torch\n",
    "sys.path.append(\"../\")\n",
    "\n",
    "from giung2.config import get_cfg\n",
    "from giung2.data.build import build_dataloaders\n",
    "from giung2.modeling.build import build_model\n",
    "from giung2.solver.build import build_optimizer, build_scheduler\n",
    "from giung2.evaluation import evaluate_acc, evaluate_nll, evaluate_ece"
   ]
  },
  {
   "cell_type": "code",
   "execution_count": 2,
   "metadata": {},
   "outputs": [],
   "source": [
    "# load config file\n",
    "cfg = get_cfg()\n",
    "cfg.merge_from_file(\"../configs/CIFAR_1GPU/C10_WRN28x1-BN-ReLU_SGD.yaml\")"
   ]
  },
  {
   "cell_type": "code",
   "execution_count": 3,
   "metadata": {},
   "outputs": [
    {
     "data": {
      "text/plain": [
       "ClassificationModelBase(\n",
       "  (backbone): PreResNet(\n",
       "    (layers): Sequential(\n",
       "      (0): FirstBlock(\n",
       "        (conv1): Conv2d(3, 16, kernel_size=(3, 3), stride=(1, 1), padding=(1, 1), bias=False)\n",
       "        (norm1): Identity()\n",
       "        (relu1): Identity()\n",
       "        (pool1): Identity()\n",
       "      )\n",
       "      (1): BasicBlock(\n",
       "        (norm1): BatchNorm2d(16, eps=1e-05, momentum=0.1, affine=True, track_running_stats=True)\n",
       "        (relu1): ReLU()\n",
       "        (conv1): Conv2d(16, 16, kernel_size=(3, 3), stride=(1, 1), padding=(1, 1), bias=False)\n",
       "        (norm2): BatchNorm2d(16, eps=1e-05, momentum=0.1, affine=True, track_running_stats=True)\n",
       "        (relu2): ReLU()\n",
       "        (conv2): Conv2d(16, 16, kernel_size=(3, 3), stride=(1, 1), padding=(1, 1), bias=False)\n",
       "        (shortcut): Identity()\n",
       "      )\n",
       "      (2): BasicBlock(\n",
       "        (norm1): BatchNorm2d(16, eps=1e-05, momentum=0.1, affine=True, track_running_stats=True)\n",
       "        (relu1): ReLU()\n",
       "        (conv1): Conv2d(16, 16, kernel_size=(3, 3), stride=(1, 1), padding=(1, 1), bias=False)\n",
       "        (norm2): BatchNorm2d(16, eps=1e-05, momentum=0.1, affine=True, track_running_stats=True)\n",
       "        (relu2): ReLU()\n",
       "        (conv2): Conv2d(16, 16, kernel_size=(3, 3), stride=(1, 1), padding=(1, 1), bias=False)\n",
       "        (shortcut): Identity()\n",
       "      )\n",
       "      (3): BasicBlock(\n",
       "        (norm1): BatchNorm2d(16, eps=1e-05, momentum=0.1, affine=True, track_running_stats=True)\n",
       "        (relu1): ReLU()\n",
       "        (conv1): Conv2d(16, 16, kernel_size=(3, 3), stride=(1, 1), padding=(1, 1), bias=False)\n",
       "        (norm2): BatchNorm2d(16, eps=1e-05, momentum=0.1, affine=True, track_running_stats=True)\n",
       "        (relu2): ReLU()\n",
       "        (conv2): Conv2d(16, 16, kernel_size=(3, 3), stride=(1, 1), padding=(1, 1), bias=False)\n",
       "        (shortcut): Identity()\n",
       "      )\n",
       "      (4): BasicBlock(\n",
       "        (norm1): BatchNorm2d(16, eps=1e-05, momentum=0.1, affine=True, track_running_stats=True)\n",
       "        (relu1): ReLU()\n",
       "        (conv1): Conv2d(16, 16, kernel_size=(3, 3), stride=(1, 1), padding=(1, 1), bias=False)\n",
       "        (norm2): BatchNorm2d(16, eps=1e-05, momentum=0.1, affine=True, track_running_stats=True)\n",
       "        (relu2): ReLU()\n",
       "        (conv2): Conv2d(16, 16, kernel_size=(3, 3), stride=(1, 1), padding=(1, 1), bias=False)\n",
       "        (shortcut): Identity()\n",
       "      )\n",
       "      (5): BasicBlock(\n",
       "        (norm1): BatchNorm2d(16, eps=1e-05, momentum=0.1, affine=True, track_running_stats=True)\n",
       "        (relu1): ReLU()\n",
       "        (conv1): Conv2d(16, 32, kernel_size=(3, 3), stride=(2, 2), padding=(1, 1), bias=False)\n",
       "        (norm2): BatchNorm2d(32, eps=1e-05, momentum=0.1, affine=True, track_running_stats=True)\n",
       "        (relu2): ReLU()\n",
       "        (conv2): Conv2d(32, 32, kernel_size=(3, 3), stride=(1, 1), padding=(1, 1), bias=False)\n",
       "        (shortcut): ProjectionShortcut(\n",
       "          (conv): Conv2d(16, 32, kernel_size=(1, 1), stride=(2, 2), bias=False)\n",
       "        )\n",
       "      )\n",
       "      (6): BasicBlock(\n",
       "        (norm1): BatchNorm2d(32, eps=1e-05, momentum=0.1, affine=True, track_running_stats=True)\n",
       "        (relu1): ReLU()\n",
       "        (conv1): Conv2d(32, 32, kernel_size=(3, 3), stride=(1, 1), padding=(1, 1), bias=False)\n",
       "        (norm2): BatchNorm2d(32, eps=1e-05, momentum=0.1, affine=True, track_running_stats=True)\n",
       "        (relu2): ReLU()\n",
       "        (conv2): Conv2d(32, 32, kernel_size=(3, 3), stride=(1, 1), padding=(1, 1), bias=False)\n",
       "        (shortcut): Identity()\n",
       "      )\n",
       "      (7): BasicBlock(\n",
       "        (norm1): BatchNorm2d(32, eps=1e-05, momentum=0.1, affine=True, track_running_stats=True)\n",
       "        (relu1): ReLU()\n",
       "        (conv1): Conv2d(32, 32, kernel_size=(3, 3), stride=(1, 1), padding=(1, 1), bias=False)\n",
       "        (norm2): BatchNorm2d(32, eps=1e-05, momentum=0.1, affine=True, track_running_stats=True)\n",
       "        (relu2): ReLU()\n",
       "        (conv2): Conv2d(32, 32, kernel_size=(3, 3), stride=(1, 1), padding=(1, 1), bias=False)\n",
       "        (shortcut): Identity()\n",
       "      )\n",
       "      (8): BasicBlock(\n",
       "        (norm1): BatchNorm2d(32, eps=1e-05, momentum=0.1, affine=True, track_running_stats=True)\n",
       "        (relu1): ReLU()\n",
       "        (conv1): Conv2d(32, 32, kernel_size=(3, 3), stride=(1, 1), padding=(1, 1), bias=False)\n",
       "        (norm2): BatchNorm2d(32, eps=1e-05, momentum=0.1, affine=True, track_running_stats=True)\n",
       "        (relu2): ReLU()\n",
       "        (conv2): Conv2d(32, 32, kernel_size=(3, 3), stride=(1, 1), padding=(1, 1), bias=False)\n",
       "        (shortcut): Identity()\n",
       "      )\n",
       "      (9): BasicBlock(\n",
       "        (norm1): BatchNorm2d(32, eps=1e-05, momentum=0.1, affine=True, track_running_stats=True)\n",
       "        (relu1): ReLU()\n",
       "        (conv1): Conv2d(32, 64, kernel_size=(3, 3), stride=(2, 2), padding=(1, 1), bias=False)\n",
       "        (norm2): BatchNorm2d(64, eps=1e-05, momentum=0.1, affine=True, track_running_stats=True)\n",
       "        (relu2): ReLU()\n",
       "        (conv2): Conv2d(64, 64, kernel_size=(3, 3), stride=(1, 1), padding=(1, 1), bias=False)\n",
       "        (shortcut): ProjectionShortcut(\n",
       "          (conv): Conv2d(32, 64, kernel_size=(1, 1), stride=(2, 2), bias=False)\n",
       "        )\n",
       "      )\n",
       "      (10): BasicBlock(\n",
       "        (norm1): BatchNorm2d(64, eps=1e-05, momentum=0.1, affine=True, track_running_stats=True)\n",
       "        (relu1): ReLU()\n",
       "        (conv1): Conv2d(64, 64, kernel_size=(3, 3), stride=(1, 1), padding=(1, 1), bias=False)\n",
       "        (norm2): BatchNorm2d(64, eps=1e-05, momentum=0.1, affine=True, track_running_stats=True)\n",
       "        (relu2): ReLU()\n",
       "        (conv2): Conv2d(64, 64, kernel_size=(3, 3), stride=(1, 1), padding=(1, 1), bias=False)\n",
       "        (shortcut): Identity()\n",
       "      )\n",
       "      (11): BasicBlock(\n",
       "        (norm1): BatchNorm2d(64, eps=1e-05, momentum=0.1, affine=True, track_running_stats=True)\n",
       "        (relu1): ReLU()\n",
       "        (conv1): Conv2d(64, 64, kernel_size=(3, 3), stride=(1, 1), padding=(1, 1), bias=False)\n",
       "        (norm2): BatchNorm2d(64, eps=1e-05, momentum=0.1, affine=True, track_running_stats=True)\n",
       "        (relu2): ReLU()\n",
       "        (conv2): Conv2d(64, 64, kernel_size=(3, 3), stride=(1, 1), padding=(1, 1), bias=False)\n",
       "        (shortcut): Identity()\n",
       "      )\n",
       "      (12): BasicBlock(\n",
       "        (norm1): BatchNorm2d(64, eps=1e-05, momentum=0.1, affine=True, track_running_stats=True)\n",
       "        (relu1): ReLU()\n",
       "        (conv1): Conv2d(64, 64, kernel_size=(3, 3), stride=(1, 1), padding=(1, 1), bias=False)\n",
       "        (norm2): BatchNorm2d(64, eps=1e-05, momentum=0.1, affine=True, track_running_stats=True)\n",
       "        (relu2): ReLU()\n",
       "        (conv2): Conv2d(64, 64, kernel_size=(3, 3), stride=(1, 1), padding=(1, 1), bias=False)\n",
       "        (shortcut): Identity()\n",
       "      )\n",
       "      (13): LastBlock(\n",
       "        (norm1): BatchNorm2d(64, eps=1e-05, momentum=0.1, affine=True, track_running_stats=True)\n",
       "        (relu1): ReLU()\n",
       "      )\n",
       "    )\n",
       "  )\n",
       "  (classifier): SoftmaxClassifier(\n",
       "    (fc): Linear(in_features=64, out_features=10, bias=True)\n",
       "  )\n",
       ")"
      ]
     },
     "execution_count": 3,
     "metadata": {},
     "output_type": "execute_result"
    }
   ],
   "source": [
    "# build model\n",
    "model = build_model(cfg)\n",
    "model.cuda()"
   ]
  },
  {
   "cell_type": "code",
   "execution_count": 4,
   "metadata": {},
   "outputs": [
    {
     "data": {
      "text/plain": [
       "dict_keys(['dataloader', 'trn_loader', 'val_loader', 'tst_loader'])"
      ]
     },
     "execution_count": 4,
     "metadata": {},
     "output_type": "execute_result"
    }
   ],
   "source": [
    "# build dataloaders\n",
    "dataloaders = build_dataloaders(cfg, root=\"../datasets/\")\n",
    "dataloaders.keys()"
   ]
  },
  {
   "cell_type": "code",
   "execution_count": 5,
   "metadata": {},
   "outputs": [],
   "source": [
    "# build optimizer and scheduler\n",
    "optimizer = build_optimizer(cfg, model)\n",
    "scheduler = build_scheduler(cfg, optimizer)"
   ]
  },
  {
   "cell_type": "code",
   "execution_count": 6,
   "metadata": {},
   "outputs": [
    {
     "name": "stdout",
     "output_type": "stream",
     "text": [
      "Epoch   1, Batch  44: average loss = 2.4975\n",
      "Epoch   1, Batch  88: average loss = 2.3353\n",
      "Epoch   1, Batch 132: average loss = 2.2399\n",
      "Epoch   1, Batch 176: average loss = 2.1791\n",
      "Epoch   1, Batch 220: average loss = 2.1322\n",
      "Epoch   1, Batch 264: average loss = 2.0923\n",
      "Epoch   1, Batch 308: average loss = 2.0623\n",
      "Epoch   1, Batch 352: average loss = 2.0335\n",
      "Epoch   2, Batch  44: average loss = 1.7987\n",
      "Epoch   2, Batch  88: average loss = 1.7300\n",
      "Epoch   2, Batch 132: average loss = 1.6837\n",
      "Epoch   2, Batch 176: average loss = 1.6388\n",
      "Epoch   2, Batch 220: average loss = 1.6004\n",
      "Epoch   2, Batch 264: average loss = 1.5615\n",
      "Epoch   2, Batch 308: average loss = 1.5268\n",
      "Epoch   2, Batch 352: average loss = 1.4956\n"
     ]
    }
   ],
   "source": [
    "# now, we can train the model\n",
    "for epoch_idx, _ in enumerate(range(cfg.SOLVER.NUM_EPOCHS), start=1):\n",
    "\n",
    "    if epoch_idx == 3:\n",
    "        break\n",
    "\n",
    "    model.train()\n",
    "\n",
    "    losses = []\n",
    "    for batch_idx, (images, labels) in enumerate(dataloaders[\"dataloader\"], start=1):\n",
    "        outputs = model(images, labels)\n",
    "        loss = torch.nn.functional.cross_entropy(outputs[\"logits\"], outputs[\"labels\"])\n",
    "        losses.append(loss.detach().item())\n",
    "\n",
    "        optimizer.zero_grad()\n",
    "        loss.backward()\n",
    "        optimizer.step()\n",
    "\n",
    "        if batch_idx % 44 == 0:\n",
    "            print(f\"Epoch {epoch_idx:3d}, Batch {batch_idx:3d}: average loss = {sum(losses) / len(losses):.4f}\")\n",
    "    \n",
    "    scheduler.step()"
   ]
  },
  {
   "cell_type": "code",
   "execution_count": 7,
   "metadata": {},
   "outputs": [
    {
     "name": "stdout",
     "output_type": "stream",
     "text": [
      "ACC = 0.5086\n",
      "NLL = 1.3435\n",
      "ECE = 0.0515\n"
     ]
    }
   ],
   "source": [
    "# after training, we want to evaluate the model\n",
    "model.eval()\n",
    "\n",
    "pred_logits_list = []\n",
    "true_labels_list = []\n",
    "for images, labels in dataloaders[\"tst_loader\"]:\n",
    "    with torch.no_grad():\n",
    "        outputs = model(images)\n",
    "    pred_logits_list.append(outputs[\"logits\"].cpu())\n",
    "    true_labels_list.append(labels)\n",
    "\n",
    "pred_logits_list = torch.cat(pred_logits_list)\n",
    "true_labels_list = torch.cat(true_labels_list)\n",
    "confidences_list = torch.softmax(pred_logits_list, dim=1)\n",
    "\n",
    "print(f\"ACC = {evaluate_acc(confidences_list, true_labels_list):.4f}\")\n",
    "print(f\"NLL = {evaluate_nll(confidences_list, true_labels_list):.4f}\")\n",
    "print(f\"ECE = {evaluate_ece(confidences_list, true_labels_list):.4f}\")"
   ]
  }
 ],
 "metadata": {
  "interpreter": {
   "hash": "06a372ff30a702c1a07b87ff2ca21a9c947b3ad6b0fdd9c07b2cc1ab1f624530"
  },
  "kernelspec": {
   "display_name": "Python 3.9.1 64-bit ('giung-tc1.9.0-cuda11.1': conda)",
   "name": "python3"
  },
  "language_info": {
   "codemirror_mode": {
    "name": "ipython",
    "version": 3
   },
   "file_extension": ".py",
   "mimetype": "text/x-python",
   "name": "python",
   "nbconvert_exporter": "python",
   "pygments_lexer": "ipython3",
   "version": "3.9.1"
  },
  "orig_nbformat": 4
 },
 "nbformat": 4,
 "nbformat_minor": 2
}
